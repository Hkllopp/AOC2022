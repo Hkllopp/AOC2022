{
 "cells": [
  {
   "cell_type": "code",
   "execution_count": 58,
   "metadata": {},
   "outputs": [
    {
     "name": "stdout",
     "output_type": "stream",
     "text": [
      "7826\n"
     ]
    }
   ],
   "source": [
    "# Open day3input.txt\n",
    "with open('day3input.txt') as f:\n",
    "    backpacks = f.read().splitlines()\n",
    "\n",
    "commons_items = []\n",
    "\n",
    "for i, backpack in enumerate(backpacks):\n",
    "    total_length = len(backpack)\n",
    "    slot_length = int(total_length/2)\n",
    "    first_slot = backpack[:slot_length]\n",
    "    second_slot = backpack[slot_length:]\n",
    "    common_items = set(first_slot).intersection(second_slot)\n",
    "    commons_items.append(list(common_items)[0])\n",
    "\n",
    "items_priority = 0\n",
    "for item in commons_items:\n",
    "    items_priority += ord(item)-38 if item.isupper() else ord(item)-96\n",
    "print(items_priority)"
   ]
  },
  {
   "cell_type": "code",
   "execution_count": 62,
   "metadata": {},
   "outputs": [
    {
     "name": "stdout",
     "output_type": "stream",
     "text": [
      "Groups total priority: 2577\n"
     ]
    }
   ],
   "source": [
    "groups_items = []\n",
    "\n",
    "# Determine groups\n",
    "for i in range(0, len(backpacks), 3):\n",
    "    first_backpack = backpacks[i]\n",
    "    second_backpack = backpacks[i+1]\n",
    "    third_backpack = backpacks[i+2]\n",
    "\n",
    "    common_item_between_backpacks = set(first_backpack).intersection(second_backpack).intersection(third_backpack)\n",
    "    groups_items.append(list(common_item_between_backpacks)[0])\n",
    "\n",
    "groups_priority = [ord(item)-38 if item.isupper() else ord(item)-96 for item in groups_items]\n",
    "print(f\"Groups total priority: {sum(groups_priority)}\")   "
   ]
  }
 ],
 "metadata": {
  "kernelspec": {
   "display_name": "Python 3.9.13 ('env': venv)",
   "language": "python",
   "name": "python3"
  },
  "language_info": {
   "codemirror_mode": {
    "name": "ipython",
    "version": 3
   },
   "file_extension": ".py",
   "mimetype": "text/x-python",
   "name": "python",
   "nbconvert_exporter": "python",
   "pygments_lexer": "ipython3",
   "version": "3.9.13"
  },
  "orig_nbformat": 4,
  "vscode": {
   "interpreter": {
    "hash": "70e2bd772e7cd9f130c947204f94a37c33d44447b83a1e33c3e7319d7031a0cc"
   }
  }
 },
 "nbformat": 4,
 "nbformat_minor": 2
}
