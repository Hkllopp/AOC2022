{
 "cells": [
  {
   "cell_type": "code",
   "execution_count": 33,
   "metadata": {},
   "outputs": [],
   "source": [
    "with open('input.txt') as f:\n",
    "    data = f.read().splitlines()\n",
    "\n",
    "instructions = [[line[0], int(line[2])] for line in data]"
   ]
  },
  {
   "cell_type": "code",
   "execution_count": 35,
   "metadata": {},
   "outputs": [
    {
     "name": "stdout",
     "output_type": "stream",
     "text": [
      "[4, 1] [4, 0]\n",
      "[4, 2] [4, 0]\n",
      "[4, 3] [4, 0]\n",
      "[4, 4] [4, 0]\n",
      "[3, 4] [4, 0]\n",
      "[2, 4] [4, 0]\n",
      "[1, 4] [4, 0]\n",
      "[0, 4] [4, 0]\n",
      "[0, 3] [4, 0]\n",
      "[0, 2] [4, 0]\n",
      "[0, 1] [4, 0]\n",
      "[1, 1] [4, 0]\n",
      "[1, 2] [4, 0]\n",
      "[1, 3] [4, 0]\n",
      "[1, 4] [4, 0]\n",
      "[1, 5] [4, 0]\n",
      "[2, 5] [4, 0]\n",
      "[2, 4] [4, 0]\n",
      "[2, 3] [4, 0]\n",
      "[2, 2] [4, 0]\n",
      "[2, 1] [4, 0]\n",
      "[2, 0] [4, 0]\n",
      "[2, 1] [4, 0]\n",
      "[2, 2] [4, 0]\n"
     ]
    }
   ],
   "source": [
    "head = [4, 0]\n",
    "tail = [4, 0]\n",
    "tail_trail = set(tail)\n",
    "\n",
    "def create_visualisation(head, tail):\n",
    "    \n",
    "    print(head, tail)\n",
    "    grid = [['.    ' for _ in range(5)] for _ in range(5)]\n",
    "    grid[-1][0] = 'S  '\n",
    "    grid[head[0]][head[1]] = 'H   '\n",
    "    grid[tail[0]][tail[1]] = 'T  '\n",
    "    print('-' * 20)\n",
    "    for row in grid:\n",
    "        print(''.join(row))\n",
    "    print('-' * 20)\n",
    "    return grid\n",
    "\n",
    "def distance_head_tail(head, tail):\n",
    "    return abs(head[0] - tail[0]) + abs(head[1] - tail[1])\n",
    "\n",
    "def move(head, tail, direction):\n",
    "    # Move head\n",
    "    if direction == 'R':\n",
    "        head[1] += 1\n",
    "    elif direction == 'L':\n",
    "        head[1] -= 1\n",
    "    elif direction == 'U':\n",
    "        head[0] -= 1\n",
    "    elif direction == 'D':\n",
    "        head[0] += 1\n",
    "    else :\n",
    "        raise ValueError('Wrong direction')\n",
    "    \n",
    "    # Move tail\n",
    "    if distance_head_tail(head, tail) > 1:\n",
    "        # Move tail\n",
    "        tail_trail.add(str(tail))\n",
    "    return head, tail\n",
    "\n",
    "for instruction in instructions:\n",
    "    for _ in range(instruction[1]):\n",
    "        head, tail = move(head, tail, instruction[0])\n",
    "        # print(distance_head_tail(head, tail))\n",
    "        create_visualisation(head, tail)"
   ]
  }
 ],
 "metadata": {
  "kernelspec": {
   "display_name": "Python 3.9.13 ('env': venv)",
   "language": "python",
   "name": "python3"
  },
  "language_info": {
   "codemirror_mode": {
    "name": "ipython",
    "version": 3
   },
   "file_extension": ".py",
   "mimetype": "text/x-python",
   "name": "python",
   "nbconvert_exporter": "python",
   "pygments_lexer": "ipython3",
   "version": "3.9.13"
  },
  "orig_nbformat": 4,
  "vscode": {
   "interpreter": {
    "hash": "70e2bd772e7cd9f130c947204f94a37c33d44447b83a1e33c3e7319d7031a0cc"
   }
  }
 },
 "nbformat": 4,
 "nbformat_minor": 2
}
