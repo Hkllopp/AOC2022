{
 "cells": [
  {
   "attachments": {},
   "cell_type": "markdown",
   "metadata": {},
   "source": [
    "In this exercice, the goal is to find a sequence of characters in a file that have different characters. So the moment you find it, it is useless to keep the rest of the file stored in memory.\n",
    "\n",
    "To avoid loading the whole file, we prefer reading the file character by character and ask for a new only if we haven't find the right sequence yet.\n",
    "\n",
    "This can be achieved by using generators."
   ]
  },
  {
   "cell_type": "code",
   "execution_count": 19,
   "metadata": {},
   "outputs": [
    {
     "name": "stdout",
     "output_type": "stream",
     "text": [
      "Signal starting is jzsh at position 1651\n"
     ]
    }
   ],
   "source": [
    "import numpy as np\n",
    "\n",
    "# Use of generator to avoid filling memory with data we don't need (after the start signal)\n",
    "def reader(filename):\n",
    "    with open(filename) as f:\n",
    "        while True:\n",
    "            # read next character\n",
    "            char = f.read(1)\n",
    "            # if not EOF, then at least 1 character was read, and \n",
    "            # this is not empty\n",
    "            if char:\n",
    "                yield char, f.tell()\n",
    "            else:\n",
    "                return\n",
    "\n",
    "reader = reader(\"./day6Input.txt\")\n",
    "\n",
    "signal_list = [next(reader)[0] for _ in range(3)]\n",
    "\n",
    "for char in reader:\n",
    "    position = char[1]\n",
    "    signal_list.append(char[0])\n",
    "    if len(np.unique(signal_list)) == 4:\n",
    "        break\n",
    "    else:\n",
    "        signal_list.pop(0)\n",
    "\n",
    "print(f'Signal starting is {\"\".join(signal_list)} at position {position}')"
   ]
  },
  {
   "cell_type": "code",
   "execution_count": 21,
   "metadata": {},
   "outputs": [
    {
     "name": "stdout",
     "output_type": "stream",
     "text": [
      "Message starting is htrzpnflwjvcgb at position 3837\n"
     ]
    }
   ],
   "source": [
    "import numpy as np\n",
    "\n",
    "# Use of generator to avoid filling memory with data we don't need (after the start signal)\n",
    "def reader(filename):\n",
    "    with open(filename) as f:\n",
    "        while True:\n",
    "            # read next character\n",
    "            char = f.read(1)\n",
    "            # if not EOF, then at least 1 character was read, and \n",
    "            # this is not empty\n",
    "            if char:\n",
    "                yield char, f.tell()\n",
    "            else:\n",
    "                return\n",
    "\n",
    "reader = reader(\"./day6Input.txt\")\n",
    "\n",
    "signal_list = [next(reader)[0] for _ in range(13)]\n",
    "\n",
    "for char in reader:\n",
    "    position = char[1]\n",
    "    signal_list.append(char[0])\n",
    "    if len(np.unique(signal_list)) == 14:\n",
    "        break\n",
    "    else:\n",
    "        signal_list.pop(0)\n",
    "\n",
    "print(f'Message starting is {\"\".join(signal_list)} at position {position}')"
   ]
  }
 ],
 "metadata": {
  "kernelspec": {
   "display_name": "Python 3.9.13 ('env': venv)",
   "language": "python",
   "name": "python3"
  },
  "language_info": {
   "codemirror_mode": {
    "name": "ipython",
    "version": 3
   },
   "file_extension": ".py",
   "mimetype": "text/x-python",
   "name": "python",
   "nbconvert_exporter": "python",
   "pygments_lexer": "ipython3",
   "version": "3.9.13"
  },
  "orig_nbformat": 4,
  "vscode": {
   "interpreter": {
    "hash": "70e2bd772e7cd9f130c947204f94a37c33d44447b83a1e33c3e7319d7031a0cc"
   }
  }
 },
 "nbformat": 4,
 "nbformat_minor": 2
}
