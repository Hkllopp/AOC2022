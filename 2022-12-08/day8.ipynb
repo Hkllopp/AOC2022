{
 "cells": [
  {
   "cell_type": "code",
   "execution_count": 142,
   "metadata": {},
   "outputs": [
    {
     "name": "stdout",
     "output_type": "stream",
     "text": [
      "Number of trees that can be seen from at least one direction : 1543\n"
     ]
    }
   ],
   "source": [
    "with open('input.txt', 'r') as f:\n",
    "    data = f.read().splitlines()\n",
    "\n",
    "forest_representation = [[int(tree) for tree in line] for line in data]\n",
    "\n",
    "def is_last_digit_the_max_of_array(array):\n",
    "    # If the last element is not the max, we can't see it :\n",
    "    # there is a bigger tree (or the same size) in front of it\n",
    "    if array.index(max(array)) != len(array)-1:\n",
    "        return False\n",
    "    else:\n",
    "        return True\n",
    "\n",
    "def left_vision(forest, col, row):\n",
    "    return [forest[row][col] for col in range(col+1)]\n",
    "\n",
    "def right_vision(forest, col, row):\n",
    "    return [forest[row][col] for col in range(len(forest[0])-1, col-1, -1)]\n",
    "\n",
    "def up_vision(forest, col, row):\n",
    "    return [forest[row][col] for row in range(row+1)]\n",
    "\n",
    "def down_vision(forest, col, row):\n",
    "    return [forest[row][col] for row in range(len(forest)-1, row-1, -1)]\n",
    "\n",
    "\n",
    "counter = 0\n",
    "for row in range(len(forest_representation)):\n",
    "    for col in range(len(forest_representation[0])):\n",
    "        if is_last_digit_the_max_of_array(left_vision(forest_representation, col, row)) \\\n",
    "        or is_last_digit_the_max_of_array(right_vision(forest_representation, col, row)) \\\n",
    "        or is_last_digit_the_max_of_array(up_vision(forest_representation, col, row)) \\\n",
    "        or is_last_digit_the_max_of_array(down_vision(forest_representation, col, row)):\n",
    "            counter += 1\n",
    "\n",
    "print(f\"Number of trees that can be seen from at least one direction : {counter}\")"
   ]
  },
  {
   "cell_type": "code",
   "execution_count": 143,
   "metadata": {},
   "outputs": [
    {
     "name": "stdout",
     "output_type": "stream",
     "text": [
      "Max score : 595080\n"
     ]
    }
   ],
   "source": [
    "tree_view = []\n",
    "\n",
    "def get_score(array):\n",
    "    score = 0\n",
    "    tree_height = array[-1]\n",
    "    array = array[:-1]\n",
    "    while len(array) > 0:\n",
    "        score += 1\n",
    "        if array[-1] < tree_height:\n",
    "            array = array[:-1]\n",
    "        else:\n",
    "            break\n",
    "    return score\n",
    "\n",
    "for row in range(len(forest_representation)):\n",
    "    for col in range(len(forest_representation[0])):\n",
    "        score = 1\n",
    "        score *= get_score(left_vision(forest_representation, col, row))\n",
    "        score *= get_score(right_vision(forest_representation, col, row))\n",
    "        score *= get_score(up_vision(forest_representation, col, row))\n",
    "        score *= get_score(down_vision(forest_representation, col, row))\n",
    "        tree_view.append(score)\n",
    "\n",
    "print(f\"Max score : {max(tree_view)}\")"
   ]
  }
 ],
 "metadata": {
  "kernelspec": {
   "display_name": "Python 3.9.13 ('env': venv)",
   "language": "python",
   "name": "python3"
  },
  "language_info": {
   "codemirror_mode": {
    "name": "ipython",
    "version": 3
   },
   "file_extension": ".py",
   "mimetype": "text/x-python",
   "name": "python",
   "nbconvert_exporter": "python",
   "pygments_lexer": "ipython3",
   "version": "3.9.13"
  },
  "orig_nbformat": 4,
  "vscode": {
   "interpreter": {
    "hash": "70e2bd772e7cd9f130c947204f94a37c33d44447b83a1e33c3e7319d7031a0cc"
   }
  }
 },
 "nbformat": 4,
 "nbformat_minor": 2
}
