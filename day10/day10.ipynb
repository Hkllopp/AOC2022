{
 "cells": [
  {
   "cell_type": "code",
   "execution_count": 48,
   "metadata": {},
   "outputs": [
    {
     "name": "stdout",
     "output_type": "stream",
     "text": [
      "Cycle 20: 10\n",
      "Cycle 60: 21\n",
      "Cycle 100: 21\n",
      "Cycle 140: 17\n",
      "Cycle 180: 17\n",
      "Cycle 220: 17\n",
      "Sum of signal strengths: 12740\n"
     ]
    }
   ],
   "source": [
    "with open('input.txt') as f:\n",
    "    data = f.read().splitlines()\n",
    "\n",
    "instructions = [line.split(' ') for line in data]\n",
    "\n",
    "cycle = 0\n",
    "value = 1\n",
    "\n",
    "cycle_checkpoints =[20, 60, 100, 140, 180, 220]\n",
    "cycle_values = []\n",
    "\n",
    "def do_cycle(cycle):\n",
    "    cycle += 1\n",
    "\n",
    "    if cycle in cycle_checkpoints:\n",
    "        print(f'Cycle {cycle}: {value}')    \n",
    "        cycle_values.append(value * cycle)\n",
    "    return cycle\n",
    "\n",
    "for instruction in instructions :\n",
    "    cycle = do_cycle(cycle)\n",
    "\n",
    "    if instruction[0] == 'addx':\n",
    "        cycle = do_cycle(cycle)\n",
    "        value += int(instruction[1])\n",
    "\n",
    "print(f\"Sum of signal strengths: {sum(cycle_values)}\")\n"
   ]
  },
  {
   "cell_type": "code",
   "execution_count": 49,
   "metadata": {},
   "outputs": [
    {
     "name": "stdout",
     "output_type": "stream",
     "text": [
      "drawing :\n",
      "# # # .  .  # # # .  .  # # # .  .  .  # # .  .  # # # .  .  .  # # .  .  .  # # .  .  # # # # . \n",
      "# .  .  # .  # .  .  # .  # .  .  # .  # .  .  # .  # .  .  # .  # .  .  # .  # .  .  # .  # .  .  .  . \n",
      "# .  .  # .  # # # .  .  # .  .  # .  # .  .  # .  # .  .  # .  # .  .  # .  # .  .  .  .  # # # .  . \n",
      "# # # .  .  # .  .  # .  # # # .  .  # # # # .  # # # .  .  # # # # .  # .  # # .  # .  .  .  . \n",
      "# .  # .  .  # .  .  # .  # .  .  .  .  # .  .  # .  # .  # .  .  # .  .  # .  # .  .  # .  # .  .  .  . \n",
      "# .  .  # .  # # # .  .  # .  .  .  .  # .  .  # .  # .  .  # .  # .  .  # .  .  # # # .  # .  .  .  . \n"
     ]
    }
   ],
   "source": [
    "cycle = 0\n",
    "value = 1\n",
    "\n",
    "drawing = [[] for _ in range(6)]\n",
    "\n",
    "cycle_checkpoints =[20, 60, 100, 140, 180, 220]\n",
    "cycle_values = []\n",
    "\n",
    "def do_cycle(cycle):\n",
    "    position = cycle % 40\n",
    "    line = cycle // 40\n",
    "\n",
    "    if position >= value-1 and position <= value+1:\n",
    "        drawing[line].append('#')\n",
    "    else:\n",
    "        drawing[line].append('. ')\n",
    "\n",
    "    cycle += 1\n",
    "\n",
    "    return cycle\n",
    "\n",
    "for instruction in instructions :\n",
    "    cycle = do_cycle(cycle)\n",
    "\n",
    "    if instruction[0] == 'addx':\n",
    "        cycle = do_cycle(cycle)\n",
    "        value += int(instruction[1])\n",
    "\n",
    "print(\"drawing :\")\n",
    "for line in drawing:\n",
    "    print(' '.join(line))\n",
    "    "
   ]
  }
 ],
 "metadata": {
  "kernelspec": {
   "display_name": "Python 3.9.13 ('env': venv)",
   "language": "python",
   "name": "python3"
  },
  "language_info": {
   "codemirror_mode": {
    "name": "ipython",
    "version": 3
   },
   "file_extension": ".py",
   "mimetype": "text/x-python",
   "name": "python",
   "nbconvert_exporter": "python",
   "pygments_lexer": "ipython3",
   "version": "3.9.13"
  },
  "orig_nbformat": 4,
  "vscode": {
   "interpreter": {
    "hash": "70e2bd772e7cd9f130c947204f94a37c33d44447b83a1e33c3e7319d7031a0cc"
   }
  }
 },
 "nbformat": 4,
 "nbformat_minor": 2
}
