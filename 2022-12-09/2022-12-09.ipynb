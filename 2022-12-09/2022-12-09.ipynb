{
 "cells": [
  {
   "cell_type": "code",
   "execution_count": 100,
   "metadata": {},
   "outputs": [],
   "source": [
    "input_file = 'input.txt'\n",
    "\n",
    "with open(input_file) as f:\n",
    "    data = f.read().splitlines()\n",
    "\n",
    "instructions = [[line[0], int(line[2:])] for line in data]"
   ]
  },
  {
   "cell_type": "code",
   "execution_count": 101,
   "metadata": {},
   "outputs": [
    {
     "name": "stdout",
     "output_type": "stream",
     "text": [
      "Rope (length = 2) tail went on 6642 different positions\n"
     ]
    }
   ],
   "source": [
    "head = [4, 0]\n",
    "tail = [4, 0]\n",
    "tail_trail = set()\n",
    "tail_trail.add(str(tail))\n",
    "grid_dimension = (5, 6)\n",
    "\n",
    "# Not used function that draw the grid and the positions for the first exercise\n",
    "def create_visualisation(head, tail):\n",
    "    spacing = '   '\n",
    "    grid = [['.' + spacing for _ in range(grid_dimension[1])] for _ in range(grid_dimension[0])]\n",
    "    for position in tail_trail:\n",
    "        position = [int(i) for i in position[1:-1].split(', ')]\n",
    "        grid[position[0]][position[1]] = '#' + spacing\n",
    "    grid[-1][0] = 's' + spacing\n",
    "    grid[head[0]][head[1]] = 'H' + spacing\n",
    "    grid[tail[0]][tail[1]] = 'T' + spacing\n",
    "\n",
    "    print('-' * 20)\n",
    "    for row in grid:\n",
    "        print(''.join(row))\n",
    "    print('-' * 20)\n",
    "    return grid\n",
    "\n",
    "def move_head(head, direction):\n",
    "    if direction == 'R':\n",
    "        head[1] += 1\n",
    "    elif direction == 'L':\n",
    "        head[1] -= 1\n",
    "    elif direction == 'U':\n",
    "        head[0] -= 1\n",
    "    elif direction == 'D':\n",
    "        head[0] += 1\n",
    "    else :\n",
    "        raise ValueError('Wrong direction')\n",
    "\n",
    "    return head\n",
    "\n",
    "def is_tail_near_head(head, tail):\n",
    "    if tail[0] in range(head[0] - 1, head[0] + 2) and tail[1] in range(head[1] - 1, head[1] + 2):\n",
    "        return True\n",
    "    else:\n",
    "        return False\n",
    "\n",
    "def move_tail(head, tail):\n",
    "    if not is_tail_near_head(head, tail):\n",
    "        # Needs to go up ?\n",
    "        if head[0] < tail[0]:\n",
    "            tail[0] -= 1\n",
    "        # Needs to go down ?\n",
    "        if head[0] > tail[0]:\n",
    "            tail[0] += 1\n",
    "        # Needs to go left ?\n",
    "        if head[1] < tail[1]:\n",
    "            tail[1] -= 1\n",
    "        # Needs to go right ?\n",
    "        if head[1] > tail[1]:\n",
    "            tail[1] += 1\n",
    "    \n",
    "    return tail\n",
    "\n",
    "def move(head, tail, direction):\n",
    "    # Move head\n",
    "    head = move_head(head, direction)\n",
    "    # Move tail\n",
    "    tail = move_tail(head, tail)\n",
    "    # Register position of tail\n",
    "    tail_trail.add(str(tail))\n",
    "\n",
    "    return head, tail\n",
    "\n",
    "for instruction in instructions:\n",
    "    for _ in range(instruction[1]):\n",
    "        head, tail = move(head, tail, instruction[0])\n",
    "    \n",
    "print(f\"Rope (length = 2) tail went on {len(tail_trail)} different positions\")"
   ]
  },
  {
   "cell_type": "code",
   "execution_count": 103,
   "metadata": {},
   "outputs": [
    {
     "name": "stdout",
     "output_type": "stream",
     "text": [
      "Rope (length = 10) tail went on 2765 different positions\n"
     ]
    }
   ],
   "source": [
    "knots = [[0,0] for _ in range(10)]\n",
    "tail_trail = set()\n",
    "tail_trail.add(str(knots[-1]))\n",
    "\n",
    "def move_knots(knots, direction):\n",
    "    # Move head\n",
    "    knots[0] = move_head(knots[0], direction)\n",
    "\n",
    "    for i in range(1, len(knots)):\n",
    "        # Move tail\n",
    "        knots[i] = move_tail(knots[i-1], knots[i])\n",
    "        # Register position of tail\n",
    "    tail_trail.add(str(knots[-1]))\n",
    "\n",
    "for instruction in instructions:\n",
    "    for _ in range(instruction[1]):\n",
    "        move_knots(knots, instruction[0])\n",
    "    \n",
    "\n",
    "print(f\"Rope (length = {len(knots)}) tail went on {len(tail_trail)} different positions\")"
   ]
  }
 ],
 "metadata": {
  "kernelspec": {
   "display_name": "Python 3.9.13 ('env': venv)",
   "language": "python",
   "name": "python3"
  },
  "language_info": {
   "codemirror_mode": {
    "name": "ipython",
    "version": 3
   },
   "file_extension": ".py",
   "mimetype": "text/x-python",
   "name": "python",
   "nbconvert_exporter": "python",
   "pygments_lexer": "ipython3",
   "version": "3.9.13"
  },
  "orig_nbformat": 4,
  "vscode": {
   "interpreter": {
    "hash": "70e2bd772e7cd9f130c947204f94a37c33d44447b83a1e33c3e7319d7031a0cc"
   }
  }
 },
 "nbformat": 4,
 "nbformat_minor": 2
}
