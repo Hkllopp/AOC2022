{
 "cells": [
  {
   "cell_type": "code",
   "execution_count": null,
   "metadata": {},
   "outputs": [],
   "source": [
    "import re\n",
    "\n",
    "with open('input.txt') as f:\n",
    "    data = f.read().splitlines()\n",
    "\n",
    "valves = {}\n",
    "\n",
    "# Create dictionnary of valves\n",
    "for line in data:\n",
    "    # regex numbers\n",
    "    flow_rate = re.findall(r'\\d+', line)[0]\n",
    "    # regex double capital letters\n",
    "    capital_letters = re.findall(r'[A-Z][A-Z]', line)\n",
    "    valve_name = capital_letters[0]\n",
    "    valve_outputs = capital_letters[1:]\n",
    "\n",
    "    valves[valve_name] = {'flow_rate': int(flow_rate), 'outputs': valve_outputs}\n",
    "\n",
    "# Create dictionnary of paths\n",
    "paths = {}\n",
    "timer = 30\n",
    "loop_count = 0\n",
    "\n",
    "def explore(valve_name, timer, pressure):\n",
    "    global loop_count\n",
    "    loop_count += 1\n",
    "    # if loop_count > 2000:\n",
    "    #     return\n",
    "    path = {}\n",
    "    timer = timer - 1\n",
    "    for output_valve in valves[valve_name]['outputs'] :\n",
    "        if timer > 0:\n",
    "            path[output_valve] = {\n",
    "                'pressure': int(pressure + valves[output_valve]['flow_rate'] * timer),\n",
    "                'timer': timer,\n",
    "                'path' : explore(output_valve, timer, pressure)\n",
    "                }\n",
    "        else:\n",
    "            continue\n",
    "    return path\n",
    "\n",
    "paths = {'pressure': 0, 'timer': timer, 'path' : explore('AA', timer, 0)}\n",
    "\n",
    "print(paths)"
   ]
  },
  {
   "attachments": {},
   "cell_type": "markdown",
   "metadata": {},
   "source": [
    "I had to watch a solution to make this one.\n",
    "\n",
    "Thanks a lot to 0xdf for explaining his solution in [this video](https://www.youtube.com/watch?v=rN4tVLnkgJU).\n",
    "\n",
    "I then can use cache trick with frozenset."
   ]
  },
  {
   "cell_type": "code",
   "execution_count": 40,
   "metadata": {},
   "outputs": [
    {
     "name": "stdout",
     "output_type": "stream",
     "text": [
      "Part 1 answer : 2077\n",
      "Part 2 answer : 2741\n"
     ]
    }
   ],
   "source": [
    "import re\n",
    "from functools import cache\n",
    "\n",
    "with open('input.txt') as f:\n",
    "    data = f.read().splitlines()\n",
    "\n",
    "valves = {}\n",
    "opened = frozenset()\n",
    "\n",
    "# Create dictionnary of valves\n",
    "for line in data:\n",
    "    # regex numbers\n",
    "    flow_rate = re.findall(r'\\d+', line)[0]\n",
    "    # regex double capital letters\n",
    "    capital_letters = re.findall(r'[A-Z][A-Z]', line)\n",
    "    valve_name = capital_letters[0]\n",
    "    valve_outputs = capital_letters[1:]\n",
    "\n",
    "    valves[valve_name] = {'flow_rate': int(flow_rate), 'outputs': valve_outputs}\n",
    "\n",
    "@cache\n",
    "def resolve(timer, opened, valve_name, elefant_waits):\n",
    "    max_score = 0\n",
    "    # For a defined time, we we'll decide if we prefer turning the valve and explore or just explore\n",
    "    if timer > 0:\n",
    "        # Compute the exploration possible values\n",
    "        explore_score = [resolve(timer - 1, opened, output, elefant_waits) for output in valves[valve_name]['outputs']]\n",
    "        max_explore_score = max(explore_score)\n",
    "        max_score = max_explore_score\n",
    "\n",
    "        # Compute turning the valve (takes one minute) then explore\n",
    "        if valves[valve_name]['flow_rate'] > 0 and valve_name not in opened:\n",
    "            opened_set = set(opened)\n",
    "            opened_set.add(valve_name)\n",
    "            opened_frozenset = frozenset(opened_set)\n",
    "            turn_score = [(valves[valve_name]['flow_rate'] * (timer - 1)) + resolve(timer - 2, opened_frozenset, output, elefant_waits) for output in valves[valve_name]['outputs']]\n",
    "            max_turn_score = max(turn_score)\n",
    "\n",
    "            if max_turn_score > max_explore_score:\n",
    "                max_score = max_turn_score\n",
    "    # If the human finished its score, we'll run another round with the elefant\n",
    "    elif elefant_waits:\n",
    "        return resolve(26, opened, 'AA', False)\n",
    "    return max_score\n",
    "\n",
    "print(f\"Part 1 answer : {resolve(30, opened, 'AA', False)}\")\n",
    "print(f\"Part 2 answer : {resolve(26, opened, 'AA', True)}\")"
   ]
  }
 ],
 "metadata": {
  "kernelspec": {
   "display_name": "env",
   "language": "python",
   "name": "python3"
  },
  "language_info": {
   "codemirror_mode": {
    "name": "ipython",
    "version": 3
   },
   "file_extension": ".py",
   "mimetype": "text/x-python",
   "name": "python",
   "nbconvert_exporter": "python",
   "pygments_lexer": "ipython3",
   "version": "3.9.13"
  },
  "orig_nbformat": 4,
  "vscode": {
   "interpreter": {
    "hash": "70e2bd772e7cd9f130c947204f94a37c33d44447b83a1e33c3e7319d7031a0cc"
   }
  }
 },
 "nbformat": 4,
 "nbformat_minor": 2
}
