{
 "cells": [
  {
   "attachments": {},
   "cell_type": "markdown",
   "metadata": {},
   "source": [
    "# Part 1"
   ]
  },
  {
   "cell_type": "code",
   "execution_count": 18,
   "metadata": {},
   "outputs": [
    {
     "name": "stdout",
     "output_type": "stream",
     "text": [
      "Monkey business is 243 x 236 = 57348\n"
     ]
    }
   ],
   "source": [
    "with open('input.txt') as f:\n",
    "    data = f.read().splitlines()\n",
    "\n",
    "monkeys_behaviour = []\n",
    "\n",
    "# Parsing the data to assign a behaviour to each monkey\n",
    "for i in range(0, len(data), 7):\n",
    "    # monkey_nb = i//7\n",
    "    monkeys_items = [int(item) for item in data[i+1][18:].split(', ')]\n",
    "    operation = data[i+2][19:]\n",
    "    divisibility_test = int(data[i+3][21:])\n",
    "    true_output = int(data[i+4][29:])\n",
    "    false_output = int(data[i+5][30:])\n",
    "    monkeys_behaviour.append({\n",
    "        \"monkeys_items\" : monkeys_items,\n",
    "        \"inspecting_counter\": 0,\n",
    "        \"operation\" : operation,\n",
    "        \"divisibility_test\" : divisibility_test,\n",
    "        \"true_output\" : true_output,\n",
    "        \"false_output\" : false_output\n",
    "    })\n",
    "\n",
    "for i in range(20):\n",
    "    # Monkeys turn\n",
    "    for monkey_nb, monkey in enumerate(monkeys_behaviour):\n",
    "        thrown_items = []\n",
    "        for item in monkey['monkeys_items']:\n",
    "            # print(f\"Monkey {monkey_nb} is inspecting {item}\")\n",
    "            # Monkey is inspecting\n",
    "            eval_expression = monkey['operation'].replace('old', str(item)) # Processing a valid expression\n",
    "            new_value = eval(eval_expression)\n",
    "            monkey['inspecting_counter'] += 1\n",
    "\n",
    "            # Monkey is bored\n",
    "            new_value = new_value // 3\n",
    "\n",
    "            # Monkey is deciding what to do\n",
    "            if new_value % monkey['divisibility_test'] == 0:\n",
    "                # Monkey throw to {true_output} monkey\n",
    "                monkeys_behaviour[monkey['true_output']]['monkeys_items'].append(new_value)\n",
    "                thrown_items.append(item) # Monkey is throwing away the item\n",
    "            else:\n",
    "                # Monkey throw to {false_output} monkey\n",
    "                monkeys_behaviour[monkey['false_output']]['monkeys_items'].append(new_value)\n",
    "                thrown_items.append(item) # Monkey is throwing away the item\n",
    "\n",
    "        # Monkey is cleaning its items\n",
    "        for item in thrown_items:\n",
    "            monkey['monkeys_items'].remove(item)\n",
    "\n",
    "# Two most inspecting monkeys\n",
    "max_inspecting, second_max_inspecting = sorted([monkey['inspecting_counter'] for monkey in monkeys_behaviour], reverse=True)[:2]\n",
    "print(f\"Monkey business is {max_inspecting} x {second_max_inspecting} = {max_inspecting * second_max_inspecting}\")"
   ]
  },
  {
   "attachments": {},
   "cell_type": "markdown",
   "metadata": {},
   "source": [
    "# Part 2"
   ]
  },
  {
   "attachments": {},
   "cell_type": "markdown",
   "metadata": {},
   "source": [
    "The second part need a trick found on reddit [here](https://www.reddit.com/r/adventofcode/comments/zifqmh/comment/izrd7iz/).\n",
    "\n",
    "Explanations (from u/whyrememberpassword):\n",
    "> (a mod kn) mod n = a mod n for any integer* k. so instead of storing `a` we store `a mod kn` where k = the product of all of the other checks\n",
    "\n",
    "If we did the modulo, and store the value, it would take centuries to compute. So we do not save the full integer but only the modulo of this integer (the famous `a mod kn`)."
   ]
  },
  {
   "cell_type": "code",
   "execution_count": 17,
   "metadata": {},
   "outputs": [
    {
     "name": "stdout",
     "output_type": "stream",
     "text": [
      "Monkey business is 121166 x 116421 = 14106266886\n"
     ]
    }
   ],
   "source": [
    "monkeys_behaviour = []\n",
    "\n",
    "# Parsing the data to assign a behaviour to each monkey\n",
    "for i in range(0, len(data), 7):\n",
    "    monkeys_items = [int(item) for item in data[i+1][18:].split(', ')]\n",
    "    operation = data[i+2][19:]\n",
    "    divisibility_test = int(data[i+3][21:])\n",
    "    true_output = int(data[i+4][29:])\n",
    "    false_output = int(data[i+5][30:])\n",
    "    monkeys_behaviour.append({\n",
    "        \"monkeys_items\" : monkeys_items,\n",
    "        \"inspecting_counter\": 0,\n",
    "        \"operation\" : operation,\n",
    "        \"divisibility_test\" : divisibility_test,\n",
    "        \"true_output\" : true_output,\n",
    "        \"false_output\" : false_output\n",
    "    })\n",
    "\n",
    "modulo = 1\n",
    "for monkey in monkeys_behaviour:\n",
    "    modulo *= monkey['divisibility_test']\n",
    "\n",
    "\n",
    "for i in range(10000):\n",
    "    # Monkeys turn\n",
    "    for monkey in monkeys_behaviour:\n",
    "        thrown_items = []\n",
    "        for item in monkey['monkeys_items']:\n",
    "            # Monkey is inspecting\n",
    "            eval_expression = monkey['operation'].replace('old', str(item)) # Processing a valid expression\n",
    "            new_value = eval(eval_expression)\n",
    "            monkey['inspecting_counter'] += 1\n",
    "\n",
    "            # Monkey is bored\n",
    "            new_value = new_value % modulo # The tricked we talked about\n",
    "\n",
    "            # Monkey is deciding what to do\n",
    "            if new_value % monkey['divisibility_test'] == 0:\n",
    "                # Monkey throw to {true_output} monkey\n",
    "                monkeys_behaviour[monkey['true_output']]['monkeys_items'].append(new_value)\n",
    "                thrown_items.append(item) # Monkey is throwing away the item\n",
    "            else:\n",
    "                # Monkey throw to {false_output} monkey\n",
    "                monkeys_behaviour[monkey['false_output']]['monkeys_items'].append(new_value)\n",
    "                thrown_items.append(item) # Monkey is throwing away the item\n",
    "\n",
    "        # Monkey is cleaning its items\n",
    "        for item in thrown_items:\n",
    "            monkey['monkeys_items'].remove(item)\n",
    "\n",
    "# Two most inspecting monkeys\n",
    "max_inspecting, second_max_inspecting = sorted([monkey['inspecting_counter'] for monkey in monkeys_behaviour], reverse=True)[:2]\n",
    "print(f\"Monkey business is {max_inspecting} x {second_max_inspecting} = {max_inspecting * second_max_inspecting}\")"
   ]
  }
 ],
 "metadata": {
  "kernelspec": {
   "display_name": "Python 3.9.13 ('env': venv)",
   "language": "python",
   "name": "python3"
  },
  "language_info": {
   "codemirror_mode": {
    "name": "ipython",
    "version": 3
   },
   "file_extension": ".py",
   "mimetype": "text/x-python",
   "name": "python",
   "nbconvert_exporter": "python",
   "pygments_lexer": "ipython3",
   "version": "3.9.13"
  },
  "orig_nbformat": 4,
  "vscode": {
   "interpreter": {
    "hash": "70e2bd772e7cd9f130c947204f94a37c33d44447b83a1e33c3e7319d7031a0cc"
   }
  }
 },
 "nbformat": 4,
 "nbformat_minor": 2
}
