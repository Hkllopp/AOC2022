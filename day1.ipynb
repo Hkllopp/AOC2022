{
 "cells": [
  {
   "attachments": {},
   "cell_type": "markdown",
   "metadata": {},
   "source": [
    "```\n",
    "------\n",
    "1000\n",
    "2000\n",
    "3000\n",
    "\n",
    "4000\n",
    "\n",
    "5000\n",
    "6000\n",
    "\n",
    "7000\n",
    "8000\n",
    "9000\n",
    "\n",
    "10000\n",
    "------\n",
    "```\n",
    "\n",
    "This list represents the Calories of the food carried by five Elves:\n",
    "\n",
    "    The first Elf is carrying food with 1000, 2000, and 3000 Calories, a total of 6000 Calories.\n",
    "    The second Elf is carrying one food item with 4000 Calories.\n",
    "    The third Elf is carrying food with 5000 and 6000 Calories, a total of 11000 Calories.\n",
    "    The fourth Elf is carrying food with 7000, 8000, and 9000 Calories, a total of 24000 Calories.\n",
    "    The fifth Elf is carrying one food item with 10000 Calories.\n",
    "\n",
    "In case the Elves get hungry and need extra snacks, they need to know which Elf to ask: they'd like to know how many Calories are being carried by the Elf carrying the most Calories. In the example above, this is 24000 (carried by the fourth Elf).\n",
    "\n",
    "Find the Elf carrying the most Calories. How many total Calories is that Elf carrying?"
   ]
  },
  {
   "cell_type": "code",
   "execution_count": 3,
   "metadata": {},
   "outputs": [
    {
     "name": "stdout",
     "output_type": "stream",
     "text": [
      "The heaviest package is 69281 kg\n",
      "The three most charged elves carry 201524 kg !\n"
     ]
    }
   ],
   "source": [
    "import numpy as np\n",
    "\n",
    "elves_packages = []\n",
    "# Read txt file\n",
    "with open('day1Input.txt') as f:\n",
    "    new_elf_package = []\n",
    "    for line in f:\n",
    "        if line != \"\\n\":\n",
    "            new_elf_package.append(int(line[:-1]))\n",
    "        else :\n",
    "            elves_packages.append(new_elf_package)\n",
    "            new_elf_package = []\n",
    "\n",
    "elves_sum = [sum(elf_package) for elf_package in elves_packages]\n",
    "print(f\"The heaviest package is {max(elves_sum)} kg\")\n",
    "\n",
    "\n",
    "print(f\"The three most charged elves carry {sum(np.sort(elves_sum)[-3:])} kg !\")"
   ]
  }
 ],
 "metadata": {
  "kernelspec": {
   "display_name": "Python 3.9.13 ('env': venv)",
   "language": "python",
   "name": "python3"
  },
  "language_info": {
   "codemirror_mode": {
    "name": "ipython",
    "version": 3
   },
   "file_extension": ".py",
   "mimetype": "text/x-python",
   "name": "python",
   "nbconvert_exporter": "python",
   "pygments_lexer": "ipython3",
   "version": "3.9.13"
  },
  "orig_nbformat": 4,
  "vscode": {
   "interpreter": {
    "hash": "70e2bd772e7cd9f130c947204f94a37c33d44447b83a1e33c3e7319d7031a0cc"
   }
  }
 },
 "nbformat": 4,
 "nbformat_minor": 2
}
