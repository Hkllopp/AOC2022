{
 "cells": [
  {
   "cell_type": "code",
   "execution_count": 38,
   "metadata": {},
   "outputs": [
    {
     "name": "stdout",
     "output_type": "stream",
     "text": [
      "number of total overlapping pairs: 582\n"
     ]
    }
   ],
   "source": [
    "def get_splitted_pair(pair):\n",
    "    splitted_pair = pair.split(\",\")\n",
    "    first = [int(number) for number in splitted_pair[0].split(\"-\")]\n",
    "    second = [int(number) for number in splitted_pair[1].split(\"-\")]\n",
    "    return [first, second]\n",
    "\n",
    "\n",
    "with open(\"./day4Input.txt\") as f:\n",
    "    pairs = f.read().splitlines()\n",
    "\n",
    "counter = 0\n",
    "\n",
    "cleaned_pairs = [get_splitted_pair(pair) for pair in pairs]\n",
    "\n",
    "for first, second in cleaned_pairs:\n",
    "    # make sure having the first assignement longer\n",
    "    if (first[1]-first[0]) < (second[1]-second[0]):\n",
    "        first, second = second, first\n",
    "\n",
    "    # first assignement is overlapping with the second one\n",
    "    if first[0] <= second[0] and first[1] >= second[1]:\n",
    "        counter += 1\n",
    "    \n",
    "print(\"number of total overlapping pairs:\", counter)"
   ]
  },
  {
   "cell_type": "code",
   "execution_count": 43,
   "metadata": {},
   "outputs": [
    {
     "name": "stdout",
     "output_type": "stream",
     "text": [
      "number of partial or total overlapping pairs: 893\n"
     ]
    }
   ],
   "source": [
    "counter = 0\n",
    "\n",
    "for first, second in cleaned_pairs:\n",
    "    # make sure having the smallest task first\n",
    "    if first[0] > second[0]:\n",
    "        first, second = second, first\n",
    "    \n",
    "    if first[0] <= second[0] and second[0]<= first[1]:\n",
    "        counter += 1\n",
    "    \n",
    "print(\"number of partial or total overlapping pairs:\", counter)"
   ]
  }
 ],
 "metadata": {
  "kernelspec": {
   "display_name": "Python 3.9.13 ('env': venv)",
   "language": "python",
   "name": "python3"
  },
  "language_info": {
   "codemirror_mode": {
    "name": "ipython",
    "version": 3
   },
   "file_extension": ".py",
   "mimetype": "text/x-python",
   "name": "python",
   "nbconvert_exporter": "python",
   "pygments_lexer": "ipython3",
   "version": "3.9.13"
  },
  "orig_nbformat": 4,
  "vscode": {
   "interpreter": {
    "hash": "70e2bd772e7cd9f130c947204f94a37c33d44447b83a1e33c3e7319d7031a0cc"
   }
  }
 },
 "nbformat": 4,
 "nbformat_minor": 2
}
