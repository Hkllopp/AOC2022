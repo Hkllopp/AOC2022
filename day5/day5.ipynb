{
 "cells": [
  {
   "cell_type": "code",
   "execution_count": 1,
   "metadata": {},
   "outputs": [
    {
     "name": "stdout",
     "output_type": "stream",
     "text": [
      "Top crates for each columns are : QGTHFZBHV\n"
     ]
    }
   ],
   "source": [
    "import re\n",
    "\n",
    "with open('input.txt') as f:\n",
    "    input = f.read().splitlines()\n",
    "\n",
    "horizontal_representation = []\n",
    "operations = []\n",
    "\n",
    "# Text processing\n",
    "for line in input:\n",
    "    # processing crates\n",
    "    if '[' in line:\n",
    "        line = [line[i] for i in range(len(line))]\n",
    "        max_line = len(line)\n",
    "        representation = [line[i+1:i+2] for i in range(0, len(line), 4)]\n",
    "        horizontal_representation.append(representation)\n",
    "    \n",
    "    # process instructions\n",
    "    if line[:4] == \"move\":\n",
    "        # regex numbers\n",
    "        numbers = re.findall(r'\\d+', line)\n",
    "        # convert to int\n",
    "        numbers = [int(i) for i in numbers]\n",
    "        operations.append(numbers)\n",
    "\n",
    "# Creating the crate grid\n",
    "grid = [[horizontal_representation[j][i][0] for j in range(len(horizontal_representation)-1, -1, -1)] for i in range(len(horizontal_representation[0]))]\n",
    "# Just convert grid array to string without spaces (from bottom to top)\n",
    "grid = [''.join(column).strip() for column in grid]\n",
    "\n",
    "new_grid = grid.copy()\n",
    "\n",
    "# Do the manipulations\n",
    "for operation in operations:\n",
    "    repeat = operation[0]\n",
    "    from_column = operation[1]-1\n",
    "    to_column = operation[2]-1\n",
    "\n",
    "    for i in range(repeat):\n",
    "        new_grid[to_column] += new_grid[from_column][-1]\n",
    "        new_grid[from_column] = new_grid[from_column][:-1]\n",
    "\n",
    "print(f\"Top crates for each columns are : {''.join([column[-1] for column in new_grid])}\")"
   ]
  },
  {
   "cell_type": "code",
   "execution_count": 2,
   "metadata": {},
   "outputs": [
    {
     "name": "stdout",
     "output_type": "stream",
     "text": [
      "Top crates for each columns are : MGDMPSZTM\n"
     ]
    }
   ],
   "source": [
    "# Part 2\n",
    "\n",
    "new_grid = grid.copy()\n",
    "\n",
    "# Do the manipulations\n",
    "for operation in operations:\n",
    "    repeat = operation[0]\n",
    "    from_column = operation[1]-1\n",
    "    to_column = operation[2]-1\n",
    "\n",
    "    crates_to_move = []\n",
    "    \n",
    "    for i in range(repeat):\n",
    "        crates_to_move.insert(0, new_grid[from_column][-1])\n",
    "        new_grid[from_column] = new_grid[from_column][:-1]\n",
    "    \n",
    "    # print(f\"Moving the crates {crates_to_move} from column {from_column} :  to column {to_column+1}\")\n",
    "        \n",
    "    for crate in crates_to_move:\n",
    "        new_grid[to_column] += crate\n",
    "\n",
    "print(f\"Top crates for each columns are : {''.join([column[-1] for column in new_grid])}\")"
   ]
  }
 ],
 "metadata": {
  "kernelspec": {
   "display_name": "Python 3.9.13 ('env': venv)",
   "language": "python",
   "name": "python3"
  },
  "language_info": {
   "codemirror_mode": {
    "name": "ipython",
    "version": 3
   },
   "file_extension": ".py",
   "mimetype": "text/x-python",
   "name": "python",
   "nbconvert_exporter": "python",
   "pygments_lexer": "ipython3",
   "version": "3.9.13"
  },
  "orig_nbformat": 4,
  "vscode": {
   "interpreter": {
    "hash": "70e2bd772e7cd9f130c947204f94a37c33d44447b83a1e33c3e7319d7031a0cc"
   }
  }
 },
 "nbformat": 4,
 "nbformat_minor": 2
}
