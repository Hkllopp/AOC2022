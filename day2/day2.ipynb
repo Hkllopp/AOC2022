{
 "cells": [
  {
   "cell_type": "code",
   "execution_count": 1,
   "metadata": {},
   "outputs": [
    {
     "name": "stdout",
     "output_type": "stream",
     "text": [
      "Total points: 14264\n"
     ]
    }
   ],
   "source": [
    "import numpy as np\n",
    "\n",
    "# read file\n",
    "with open('input.txt') as f:\n",
    "    lines = f.readlines()\n",
    "\n",
    "combinations = [line.strip().split(' ') for line in lines]\n",
    "\n",
    "total_counter = 0\n",
    "\n",
    "for combination in combinations:\n",
    "    # Rock ('A' | 'X')\n",
    "    if combination[1] == 'X':\n",
    "        total_counter += 1\n",
    "        # If draw\n",
    "        if combination[0] == 'A':\n",
    "            total_counter += 3\n",
    "        # If win\n",
    "        elif combination[0] == 'C':\n",
    "            total_counter += 6\n",
    "\n",
    "    # Paper ('B' | 'Y')\n",
    "    elif combination[1] == 'Y':\n",
    "        total_counter += 2\n",
    "        # If draw\n",
    "        if combination[0] == 'B':\n",
    "            total_counter += 3\n",
    "        # If win\n",
    "        elif combination[0] == 'A':\n",
    "            total_counter += 6\n",
    "\n",
    "    # Scissors ('C' | 'Z')\n",
    "    elif combination[1] == 'Z':\n",
    "        total_counter += 3\n",
    "        # If draw\n",
    "        if combination[0] == 'C':\n",
    "            total_counter += 3\n",
    "        # If win\n",
    "        elif combination[0] == 'B':\n",
    "            total_counter += 6\n",
    "    \n",
    "\n",
    "print(f\"Total points: {total_counter}\")\n",
    "\n",
    "    "
   ]
  },
  {
   "cell_type": "code",
   "execution_count": 2,
   "metadata": {},
   "outputs": [
    {
     "name": "stdout",
     "output_type": "stream",
     "text": [
      "Secret points: 12382\n"
     ]
    }
   ],
   "source": [
    "secret_counter = 0\n",
    "\n",
    "for combination in combinations:\n",
    "    # Loosing\n",
    "    if combination[1] == 'X':\n",
    "        # In order to loose if you opponent plays rock, you have to play scissors (3 pts)\n",
    "        if combination[0] == 'A':\n",
    "            secret_counter += 3\n",
    "        # In order to loose if you opponent plays paper, you have to play rock (1 pts)\n",
    "        elif combination[0] == 'B':\n",
    "            secret_counter += 1\n",
    "        # In order to loose if you opponent plays scissors, you have to play paper (2 pts)\n",
    "        elif combination[0] == 'C':\n",
    "            secret_counter += 2\n",
    "    \n",
    "    # Draw (you just need to add the point of the symbol your opponent played because you'll play the same)\n",
    "    elif combination[1] == 'Y':\n",
    "        secret_counter += 3\n",
    "        if combination[0] == 'A':\n",
    "            secret_counter += 1\n",
    "        elif combination[0] == 'B':\n",
    "            secret_counter += 2\n",
    "        elif combination[0] == 'C':\n",
    "            secret_counter += 3\n",
    "    \n",
    "    # Win\n",
    "    elif combination[1] == 'Z':\n",
    "        secret_counter += 6\n",
    "        # In order to win if you opponent plays rock, you have to play paper (2 pts)\n",
    "        if combination[0] == 'A':\n",
    "            secret_counter += 2\n",
    "        # In order to win if you opponent plays paper, you have to play scissors (3 pts)\n",
    "        elif combination[0] == 'B':\n",
    "            secret_counter += 3\n",
    "        # In order to win if you opponent plays scissors, you have to play rock (1 pts)\n",
    "        elif combination[0] == 'C':\n",
    "            secret_counter += 1\n",
    "\n",
    "print(f\"Secret points: {secret_counter}\")"
   ]
  }
 ],
 "metadata": {
  "kernelspec": {
   "display_name": "Python 3.9.13 ('env': venv)",
   "language": "python",
   "name": "python3"
  },
  "language_info": {
   "codemirror_mode": {
    "name": "ipython",
    "version": 3
   },
   "file_extension": ".py",
   "mimetype": "text/x-python",
   "name": "python",
   "nbconvert_exporter": "python",
   "pygments_lexer": "ipython3",
   "version": "3.9.13"
  },
  "orig_nbformat": 4,
  "vscode": {
   "interpreter": {
    "hash": "70e2bd772e7cd9f130c947204f94a37c33d44447b83a1e33c3e7319d7031a0cc"
   }
  }
 },
 "nbformat": 4,
 "nbformat_minor": 2
}
