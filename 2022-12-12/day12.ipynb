{
 "cells": [
  {
   "cell_type": "code",
   "execution_count": 32,
   "metadata": {},
   "outputs": [
    {
     "name": "stdout",
     "output_type": "stream",
     "text": [
      "Graph found in 352 steps\n"
     ]
    }
   ],
   "source": [
    "with open('input.txt') as f:\n",
    "    data = f.read().splitlines()\n",
    "\n",
    "def get_possible_nodes(node):\n",
    "    possible_nodes = []\n",
    "    if node[0] > 0 and is_node_accessible(node, (node[0] - 1, node[1])):\n",
    "        possible_nodes.append((node[0] - 1, node[1]))\n",
    "    if node[0] < len(data) - 1 and is_node_accessible(node, (node[0] + 1, node[1])):\n",
    "        possible_nodes.append((node[0] + 1, node[1]))\n",
    "    if node[1] > 0 and is_node_accessible(node, (node[0], node[1] - 1)):\n",
    "        possible_nodes.append((node[0], node[1] - 1))\n",
    "    if node[1] < len(data[0]) - 1 and is_node_accessible(node, (node[0], node[1] + 1)):\n",
    "        possible_nodes.append((node[0], node[1] + 1))\n",
    "    return possible_nodes\n",
    "\n",
    "def is_node_accessible(from_node, to_node):\n",
    "    if get_elevation(to_node) - get_elevation(from_node) <= 1:\n",
    "        return True\n",
    "    else:\n",
    "        return False\n",
    "\n",
    "\n",
    "def get_elevation(position):\n",
    "    if data[position[0]][position[1]] == \"S\":\n",
    "        return 0\n",
    "    elif data[position[0]][position[1]] == \"E\":\n",
    "        return 26\n",
    "    else:\n",
    "        return ord(data[position[0]][position[1]]) - 97\n",
    "\n",
    "# Function to find the shortest\n",
    "# path between two nodes of a graph\n",
    "def BFS_SP(graph, start, goal):\n",
    "    explored = []\n",
    "     \n",
    "    # Queue for traversing the\n",
    "    # graph in the BFS\n",
    "    queue = [[start]]\n",
    "     \n",
    "    # If the desired node is\n",
    "    # reached\n",
    "    if start == goal:\n",
    "        print(\"Same Node\")\n",
    "        return\n",
    "     \n",
    "    # Loop to traverse the graph\n",
    "    # with the help of the queue\n",
    "    while queue:\n",
    "        path = queue.pop(0)\n",
    "        node = path[-1]\n",
    "         \n",
    "        # Condition to check if the\n",
    "        # current node is not visited\n",
    "        if node not in explored:\n",
    "            neighbours = graph[node]\n",
    "             \n",
    "            # Loop to iterate over the\n",
    "            # neighbours of the node\n",
    "            for neighbour in neighbours:\n",
    "                new_path = list(path)\n",
    "                new_path.append(neighbour)\n",
    "                queue.append(new_path)\n",
    "                 \n",
    "                # Condition to check if the\n",
    "                # neighbour node is the goal\n",
    "                if neighbour == goal:\n",
    "                    return new_path\n",
    "            explored.append(node)\n",
    " \n",
    "    # Condition when the nodes\n",
    "    # are not connected\n",
    "    print(\"So sorry, but a connecting\"\\\n",
    "                \"path doesn't exist :(\")\n",
    "    return\n",
    "\n",
    "# create graph\n",
    "graph = {}\n",
    "start, end = None, None\n",
    "height, width = len(data), len(data[0])\n",
    "for i in range(height):\n",
    "    for j in range(width):\n",
    "        node = (i, j)\n",
    "        graph[node] = get_possible_nodes(node)\n",
    "        if data[i][j] == \"S\":\n",
    "            start = node\n",
    "        elif data[i][j] == \"E\":\n",
    "            end = node\n",
    "\n",
    "\n",
    "\n",
    "# using bfs to find the shortest path (from https://www.geeksforgeeks.org/building-an-undirected-graph-and-finding-shortest-path-using-dictionaries-in-python/)\n",
    "print(f\"Graph found in {len(BFS_SP(graph, start, end))-1} steps\")"
   ]
  },
  {
   "cell_type": "code",
   "execution_count": 33,
   "metadata": {},
   "outputs": [
    {
     "name": "stdout",
     "output_type": "stream",
     "text": [
      "Shortest path found in 345 steps\n"
     ]
    }
   ],
   "source": [
    "possible_starting_points = [[(i, j) for j in range(width) if data[i][j] == 'S' or data[i][j]=='a'][0] for i in range(height)]\n",
    "trails_lengths = []\n",
    "\n",
    "for starting_point in possible_starting_points:\n",
    "    shortest_path = BFS_SP(graph, starting_point, end)\n",
    "    trails_lengths.append(len(shortest_path)-1) if shortest_path else None\n",
    "\n",
    "print(f\"Shortest path found in {min(trails_lengths)} steps\")"
   ]
  }
 ],
 "metadata": {
  "kernelspec": {
   "display_name": "Python 3.9.13 ('env': venv)",
   "language": "python",
   "name": "python3"
  },
  "language_info": {
   "codemirror_mode": {
    "name": "ipython",
    "version": 3
   },
   "file_extension": ".py",
   "mimetype": "text/x-python",
   "name": "python",
   "nbconvert_exporter": "python",
   "pygments_lexer": "ipython3",
   "version": "3.9.13"
  },
  "orig_nbformat": 4,
  "vscode": {
   "interpreter": {
    "hash": "70e2bd772e7cd9f130c947204f94a37c33d44447b83a1e33c3e7319d7031a0cc"
   }
  }
 },
 "nbformat": 4,
 "nbformat_minor": 2
}
