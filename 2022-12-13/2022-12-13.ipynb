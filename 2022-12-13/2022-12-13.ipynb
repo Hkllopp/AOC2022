{
 "cells": [
  {
   "cell_type": "code",
   "execution_count": 51,
   "metadata": {},
   "outputs": [
    {
     "name": "stdout",
     "output_type": "stream",
     "text": [
      "Index sum of pair in good orders is 6428\n"
     ]
    }
   ],
   "source": [
    "with open('input.txt') as f:\n",
    "    lines = f.read().splitlines()\n",
    "\n",
    "def are_int_in_good_order(left, right):\n",
    "    if left == right :\n",
    "        return None\n",
    "    elif left < right :\n",
    "        return True\n",
    "    else:\n",
    "        return False\n",
    "\n",
    "def compare_list(leftList, rightList):\n",
    "    is_good_order = None\n",
    "\n",
    "    left_length = len(leftList)\n",
    "    right_length = len(rightList)\n",
    "    lenght_to_check = None\n",
    "\n",
    "    # If the comparison between every integers doesn't decide if good order or not, lenght will\n",
    "    if left_length < right_length:\n",
    "        is_good_order = True\n",
    "        lenght_to_check = left_length\n",
    "    elif left_length > right_length:\n",
    "        is_good_order = False\n",
    "        lenght_to_check = right_length\n",
    "    else :\n",
    "        lenght_to_check = right_length\n",
    "\n",
    "    \n",
    "    for i in range(lenght_to_check):\n",
    "        # if the items to compare are integers, we can compare them\n",
    "        if type(leftList[i]) == int and type(rightList[i]) == int:\n",
    "            is_good_order_integers = are_int_in_good_order(leftList[i], rightList[i])\n",
    "            if is_good_order_integers == None:\n",
    "                continue\n",
    "            else:\n",
    "                is_good_order = is_good_order_integers\n",
    "                break\n",
    "        \n",
    "        # If two list, we can compare them\n",
    "        elif type(leftList[i]) == list and type(rightList[i]) == list:\n",
    "            is_good_order_list = compare_list(leftList[i], rightList[i])\n",
    "            if is_good_order_list == None:\n",
    "                continue\n",
    "            else:\n",
    "                is_good_order = is_good_order_list\n",
    "                break\n",
    "        # If list and integer, let's make the integer a list\n",
    "        else :\n",
    "            if type(leftList[i]) == int:\n",
    "                leftList[i] = [leftList[i]]\n",
    "            else:\n",
    "                rightList[i] = [rightList[i]]\n",
    "\n",
    "            is_good_order_list = compare_list(leftList[i], rightList[i])\n",
    "            if is_good_order_list == None:\n",
    "                continue\n",
    "            else:\n",
    "                is_good_order = is_good_order_list\n",
    "                break\n",
    "    \n",
    "    return is_good_order\n",
    "    \n",
    "\n",
    "\n",
    "index_sum = 0\n",
    "\n",
    "for i in range(0, len(lines), 3):\n",
    "    left = eval(lines[i])\n",
    "    right = eval(lines[i+1])\n",
    "\n",
    "    if compare_list(left, right):\n",
    "        index_sum += (i//3)+1\n",
    "\n",
    "print(f\"Index sum of pair in good orders is {index_sum}\")"
   ]
  },
  {
   "cell_type": "code",
   "execution_count": 52,
   "metadata": {},
   "outputs": [
    {
     "name": "stdout",
     "output_type": "stream",
     "text": [
      "Separator one is at place 117 and separator two is at place 192 and answer is 22464\n"
     ]
    }
   ],
   "source": [
    "separators = [[[2]], [[6]]]\n",
    "compartiments = [[] for _ in range(len(separators)+1)]\n",
    "\n",
    "for i in range(0, len(lines), 3):\n",
    "    left = eval(lines[i])\n",
    "    right = eval(lines[i+1])\n",
    "\n",
    "    for line in [left, right]:\n",
    "        if compare_list(line, separators[0]):\n",
    "            compartiments[0].append(line)\n",
    "        elif compare_list(line, separators[1]):\n",
    "            compartiments[1].append(line)\n",
    "        else:\n",
    "            compartiments[2].append(line)\n",
    "\n",
    "separator_indexs = [len(compartiments[0])+1, len(compartiments[0])+len(compartiments[1])+2]\n",
    "print(f\"Separator one is at place {separator_indexs[0]} and separator two is at place {separator_indexs[1]} and answer is {separator_indexs[0]*separator_indexs[1]}\")"
   ]
  }
 ],
 "metadata": {
  "kernelspec": {
   "display_name": "Python 3.9.13 ('env': venv)",
   "language": "python",
   "name": "python3"
  },
  "language_info": {
   "codemirror_mode": {
    "name": "ipython",
    "version": 3
   },
   "file_extension": ".py",
   "mimetype": "text/x-python",
   "name": "python",
   "nbconvert_exporter": "python",
   "pygments_lexer": "ipython3",
   "version": "3.9.13"
  },
  "orig_nbformat": 4,
  "vscode": {
   "interpreter": {
    "hash": "70e2bd772e7cd9f130c947204f94a37c33d44447b83a1e33c3e7319d7031a0cc"
   }
  }
 },
 "nbformat": 4,
 "nbformat_minor": 2
}
